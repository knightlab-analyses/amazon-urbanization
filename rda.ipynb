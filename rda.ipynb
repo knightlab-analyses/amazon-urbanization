{
 "cells": [
  {
   "cell_type": "markdown",
   "metadata": {},
   "source": [
    "# Effect size analysis"
   ]
  },
  {
   "cell_type": "markdown",
   "metadata": {},
   "source": [
    "### Dependencies"
   ]
  },
  {
   "cell_type": "code",
   "execution_count": 1,
   "metadata": {},
   "outputs": [],
   "source": [
    "import numpy as np\n",
    "import pandas as pd"
   ]
  },
  {
   "cell_type": "code",
   "execution_count": 2,
   "metadata": {},
   "outputs": [],
   "source": [
    "import warnings\n",
    "warnings.filterwarnings('ignore')"
   ]
  },
  {
   "cell_type": "code",
   "execution_count": 3,
   "metadata": {},
   "outputs": [],
   "source": [
    "%load_ext rpy2.ipython"
   ]
  },
  {
   "cell_type": "code",
   "execution_count": 4,
   "metadata": {},
   "outputs": [
    {
     "data": {
      "text/plain": [
       "array([1], dtype=int32)"
      ]
     },
     "execution_count": 4,
     "metadata": {},
     "output_type": "execute_result"
    }
   ],
   "source": [
    "%R require(vegan)"
   ]
  },
  {
   "cell_type": "markdown",
   "metadata": {},
   "source": [
    "### Input files"
   ]
  },
  {
   "cell_type": "markdown",
   "metadata": {},
   "source": [
    "Metadata"
   ]
  },
  {
   "cell_type": "code",
   "execution_count": 5,
   "metadata": {},
   "outputs": [],
   "source": [
    "meta_fp = '../metadata.neo.txt'"
   ]
  },
  {
   "cell_type": "markdown",
   "metadata": {},
   "source": [
    "PCoA"
   ]
  },
  {
   "cell_type": "code",
   "execution_count": 6,
   "metadata": {},
   "outputs": [],
   "source": [
    "pcoa_fp = 'abund_jaccard_ITS.house.pcoa'"
   ]
  },
  {
   "cell_type": "markdown",
   "metadata": {},
   "source": [
    "### Parameters"
   ]
  },
  {
   "cell_type": "markdown",
   "metadata": {},
   "source": [
    "Number of axes to retain"
   ]
  },
  {
   "cell_type": "code",
   "execution_count": 7,
   "metadata": {},
   "outputs": [],
   "source": [
    "n = 10"
   ]
  },
  {
   "cell_type": "markdown",
   "metadata": {},
   "source": [
    "Metadata columns to test"
   ]
  },
  {
   "cell_type": "code",
   "execution_count": 8,
   "metadata": {},
   "outputs": [],
   "source": [
    "cols = ['village_socio2', 'temp_inside_house', 'carbon_dioxide_inside', 'light_lux_inside']"
   ]
  },
  {
   "cell_type": "markdown",
   "metadata": {},
   "source": [
    "### Processing"
   ]
  },
  {
   "cell_type": "markdown",
   "metadata": {},
   "source": [
    "Process PCoA result"
   ]
  },
  {
   "cell_type": "code",
   "execution_count": 9,
   "metadata": {},
   "outputs": [],
   "source": [
    "loads, coords = [], []\n",
    "with open(pcoa_fp, 'r') as f:\n",
    "    reading = False\n",
    "    for line in f:\n",
    "        line = line.rstrip('\\r\\n')\n",
    "        if line.startswith('Proportion explained'):\n",
    "            loads = [float(x) for x in next(f).rstrip('\\r\\n').split('\\t')]\n",
    "            continue\n",
    "        if line.startswith('Site'):\n",
    "            reading = True\n",
    "            continue\n",
    "        if reading:\n",
    "            if line == '':\n",
    "                break\n",
    "            row = line.split('\\t')\n",
    "            coords.append([row[0]] + [float(x) for x in row[1:n + 1]])"
   ]
  },
  {
   "cell_type": "code",
   "execution_count": 10,
   "metadata": {},
   "outputs": [
    {
     "data": {
      "text/html": [
       "<div>\n",
       "<style scoped>\n",
       "    .dataframe tbody tr th:only-of-type {\n",
       "        vertical-align: middle;\n",
       "    }\n",
       "\n",
       "    .dataframe tbody tr th {\n",
       "        vertical-align: top;\n",
       "    }\n",
       "\n",
       "    .dataframe thead th {\n",
       "        text-align: right;\n",
       "    }\n",
       "</style>\n",
       "<table border=\"1\" class=\"dataframe\">\n",
       "  <thead>\n",
       "    <tr style=\"text-align: right;\">\n",
       "      <th></th>\n",
       "      <th>PC1</th>\n",
       "      <th>PC2</th>\n",
       "      <th>PC3</th>\n",
       "      <th>PC4</th>\n",
       "      <th>PC5</th>\n",
       "      <th>PC6</th>\n",
       "      <th>PC7</th>\n",
       "      <th>PC8</th>\n",
       "      <th>PC9</th>\n",
       "      <th>PC10</th>\n",
       "    </tr>\n",
       "    <tr>\n",
       "      <th>#SampleID</th>\n",
       "      <th></th>\n",
       "      <th></th>\n",
       "      <th></th>\n",
       "      <th></th>\n",
       "      <th></th>\n",
       "      <th></th>\n",
       "      <th></th>\n",
       "      <th></th>\n",
       "      <th></th>\n",
       "      <th></th>\n",
       "    </tr>\n",
       "  </thead>\n",
       "  <tbody>\n",
       "    <tr>\n",
       "      <th>Iqu.1159.kitc</th>\n",
       "      <td>-0.043603</td>\n",
       "      <td>0.526196</td>\n",
       "      <td>-0.226334</td>\n",
       "      <td>0.135684</td>\n",
       "      <td>-0.086652</td>\n",
       "      <td>0.095999</td>\n",
       "      <td>-0.043165</td>\n",
       "      <td>0.191635</td>\n",
       "      <td>-0.090840</td>\n",
       "      <td>0.084364</td>\n",
       "    </tr>\n",
       "    <tr>\n",
       "      <th>Iqu.1198.bath</th>\n",
       "      <td>-0.022113</td>\n",
       "      <td>0.173070</td>\n",
       "      <td>-0.212129</td>\n",
       "      <td>-0.015912</td>\n",
       "      <td>0.144807</td>\n",
       "      <td>0.088161</td>\n",
       "      <td>0.129988</td>\n",
       "      <td>0.200196</td>\n",
       "      <td>0.039793</td>\n",
       "      <td>-0.130706</td>\n",
       "    </tr>\n",
       "    <tr>\n",
       "      <th>Che.378.bedr</th>\n",
       "      <td>0.309049</td>\n",
       "      <td>-0.124818</td>\n",
       "      <td>-0.144513</td>\n",
       "      <td>0.204565</td>\n",
       "      <td>0.098956</td>\n",
       "      <td>-0.121639</td>\n",
       "      <td>-0.101838</td>\n",
       "      <td>0.076300</td>\n",
       "      <td>-0.048983</td>\n",
       "      <td>0.018965</td>\n",
       "    </tr>\n",
       "    <tr>\n",
       "      <th>Che.422.bedr</th>\n",
       "      <td>0.175388</td>\n",
       "      <td>-0.123175</td>\n",
       "      <td>-0.101195</td>\n",
       "      <td>0.200906</td>\n",
       "      <td>0.161773</td>\n",
       "      <td>-0.071774</td>\n",
       "      <td>-0.094298</td>\n",
       "      <td>0.029263</td>\n",
       "      <td>-0.017368</td>\n",
       "      <td>-0.007131</td>\n",
       "    </tr>\n",
       "    <tr>\n",
       "      <th>Che.118.kitc</th>\n",
       "      <td>0.500366</td>\n",
       "      <td>-0.096905</td>\n",
       "      <td>-0.130212</td>\n",
       "      <td>0.120746</td>\n",
       "      <td>0.019666</td>\n",
       "      <td>-0.361973</td>\n",
       "      <td>-0.069801</td>\n",
       "      <td>-0.028140</td>\n",
       "      <td>-0.009557</td>\n",
       "      <td>0.122989</td>\n",
       "    </tr>\n",
       "  </tbody>\n",
       "</table>\n",
       "</div>"
      ],
      "text/plain": [
       "                    PC1       PC2       PC3       PC4       PC5       PC6  \\\n",
       "#SampleID                                                                   \n",
       "Iqu.1159.kitc -0.043603  0.526196 -0.226334  0.135684 -0.086652  0.095999   \n",
       "Iqu.1198.bath -0.022113  0.173070 -0.212129 -0.015912  0.144807  0.088161   \n",
       "Che.378.bedr   0.309049 -0.124818 -0.144513  0.204565  0.098956 -0.121639   \n",
       "Che.422.bedr   0.175388 -0.123175 -0.101195  0.200906  0.161773 -0.071774   \n",
       "Che.118.kitc   0.500366 -0.096905 -0.130212  0.120746  0.019666 -0.361973   \n",
       "\n",
       "                    PC7       PC8       PC9      PC10  \n",
       "#SampleID                                              \n",
       "Iqu.1159.kitc -0.043165  0.191635 -0.090840  0.084364  \n",
       "Iqu.1198.bath  0.129988  0.200196  0.039793 -0.130706  \n",
       "Che.378.bedr  -0.101838  0.076300 -0.048983  0.018965  \n",
       "Che.422.bedr  -0.094298  0.029263 -0.017368 -0.007131  \n",
       "Che.118.kitc  -0.069801 -0.028140 -0.009557  0.122989  "
      ]
     },
     "execution_count": 10,
     "metadata": {},
     "output_type": "execute_result"
    }
   ],
   "source": [
    "pcoa = pd.DataFrame(coords)\n",
    "pcoa.columns = ['#SampleID'] + ['PC%d' % (i + 1) for i in range(10)]\n",
    "pcoa.set_index('#SampleID', inplace=True)\n",
    "pcoa.head()"
   ]
  },
  {
   "cell_type": "code",
   "execution_count": 11,
   "metadata": {},
   "outputs": [
    {
     "data": {
      "text/plain": [
       "401"
      ]
     },
     "execution_count": 11,
     "metadata": {},
     "output_type": "execute_result"
    }
   ],
   "source": [
    "pcoa.shape[0]"
   ]
  },
  {
   "cell_type": "markdown",
   "metadata": {},
   "source": [
    "Process metadata"
   ]
  },
  {
   "cell_type": "code",
   "execution_count": 12,
   "metadata": {},
   "outputs": [
    {
     "data": {
      "text/html": [
       "<div>\n",
       "<style scoped>\n",
       "    .dataframe tbody tr th:only-of-type {\n",
       "        vertical-align: middle;\n",
       "    }\n",
       "\n",
       "    .dataframe tbody tr th {\n",
       "        vertical-align: top;\n",
       "    }\n",
       "\n",
       "    .dataframe thead th {\n",
       "        text-align: right;\n",
       "    }\n",
       "</style>\n",
       "<table border=\"1\" class=\"dataframe\">\n",
       "  <thead>\n",
       "    <tr style=\"text-align: right;\">\n",
       "      <th></th>\n",
       "      <th>collection_year</th>\n",
       "      <th>Description</th>\n",
       "      <th>host_or_room</th>\n",
       "      <th>host_type</th>\n",
       "      <th>host_type2</th>\n",
       "      <th>house_number</th>\n",
       "      <th>sample_site</th>\n",
       "      <th>description</th>\n",
       "      <th>sample_site_general</th>\n",
       "      <th>socioeconomic_level</th>\n",
       "      <th>...</th>\n",
       "      <th>Shannon_16S</th>\n",
       "      <th>chao_16S</th>\n",
       "      <th>Shannon_18S</th>\n",
       "      <th>chao_18S</th>\n",
       "      <th>Shannon_18SnoAPF</th>\n",
       "      <th>chao_18SnoAPF</th>\n",
       "      <th>Shannon_ITS</th>\n",
       "      <th>chao_ITS</th>\n",
       "      <th>Shannon_MS</th>\n",
       "      <th>Observed_richness_MS</th>\n",
       "    </tr>\n",
       "    <tr>\n",
       "      <th>#SampleID</th>\n",
       "      <th></th>\n",
       "      <th></th>\n",
       "      <th></th>\n",
       "      <th></th>\n",
       "      <th></th>\n",
       "      <th></th>\n",
       "      <th></th>\n",
       "      <th></th>\n",
       "      <th></th>\n",
       "      <th></th>\n",
       "      <th></th>\n",
       "      <th></th>\n",
       "      <th></th>\n",
       "      <th></th>\n",
       "      <th></th>\n",
       "      <th></th>\n",
       "      <th></th>\n",
       "      <th></th>\n",
       "      <th></th>\n",
       "      <th></th>\n",
       "      <th></th>\n",
       "    </tr>\n",
       "  </thead>\n",
       "  <tbody>\n",
       "    <tr>\n",
       "      <th>Che.214.bedr</th>\n",
       "      <td>2012</td>\n",
       "      <td>Peru2012</td>\n",
       "      <td>bedroom</td>\n",
       "      <td>house</td>\n",
       "      <td>floor</td>\n",
       "      <td>6.0</td>\n",
       "      <td>floor</td>\n",
       "      <td>floor</td>\n",
       "      <td>floor</td>\n",
       "      <td>NaN</td>\n",
       "      <td>...</td>\n",
       "      <td>6.032639</td>\n",
       "      <td>384.558823</td>\n",
       "      <td>4.451843</td>\n",
       "      <td>42.000000</td>\n",
       "      <td>NaN</td>\n",
       "      <td>NaN</td>\n",
       "      <td>NaN</td>\n",
       "      <td>NaN</td>\n",
       "      <td>4.843564</td>\n",
       "      <td>109.0</td>\n",
       "    </tr>\n",
       "    <tr>\n",
       "      <th>Che.216.livi</th>\n",
       "      <td>2012</td>\n",
       "      <td>Peru2012</td>\n",
       "      <td>living</td>\n",
       "      <td>house</td>\n",
       "      <td>floor</td>\n",
       "      <td>6.0</td>\n",
       "      <td>floor</td>\n",
       "      <td>floor</td>\n",
       "      <td>floor</td>\n",
       "      <td>NaN</td>\n",
       "      <td>...</td>\n",
       "      <td>4.882074</td>\n",
       "      <td>399.235294</td>\n",
       "      <td>NaN</td>\n",
       "      <td>NaN</td>\n",
       "      <td>NaN</td>\n",
       "      <td>NaN</td>\n",
       "      <td>NaN</td>\n",
       "      <td>NaN</td>\n",
       "      <td>4.766682</td>\n",
       "      <td>106.0</td>\n",
       "    </tr>\n",
       "    <tr>\n",
       "      <th>Che.209.kitc</th>\n",
       "      <td>2012</td>\n",
       "      <td>Peru2012</td>\n",
       "      <td>kitchen</td>\n",
       "      <td>house</td>\n",
       "      <td>floor</td>\n",
       "      <td>6.0</td>\n",
       "      <td>floor</td>\n",
       "      <td>floor</td>\n",
       "      <td>floor</td>\n",
       "      <td>NaN</td>\n",
       "      <td>...</td>\n",
       "      <td>7.249349</td>\n",
       "      <td>753.500000</td>\n",
       "      <td>NaN</td>\n",
       "      <td>NaN</td>\n",
       "      <td>NaN</td>\n",
       "      <td>NaN</td>\n",
       "      <td>NaN</td>\n",
       "      <td>NaN</td>\n",
       "      <td>4.588729</td>\n",
       "      <td>101.0</td>\n",
       "    </tr>\n",
       "    <tr>\n",
       "      <th>Che.284.livi</th>\n",
       "      <td>2012</td>\n",
       "      <td>Peru2012</td>\n",
       "      <td>living</td>\n",
       "      <td>house</td>\n",
       "      <td>floor</td>\n",
       "      <td>7.0</td>\n",
       "      <td>floor</td>\n",
       "      <td>floor</td>\n",
       "      <td>floor</td>\n",
       "      <td>NaN</td>\n",
       "      <td>...</td>\n",
       "      <td>5.944746</td>\n",
       "      <td>433.217391</td>\n",
       "      <td>6.031111</td>\n",
       "      <td>285.066667</td>\n",
       "      <td>5.465250</td>\n",
       "      <td>131.433333</td>\n",
       "      <td>5.755548</td>\n",
       "      <td>217.487179</td>\n",
       "      <td>4.645737</td>\n",
       "      <td>109.0</td>\n",
       "    </tr>\n",
       "    <tr>\n",
       "      <th>Che.278.kitc</th>\n",
       "      <td>2012</td>\n",
       "      <td>Peru2012</td>\n",
       "      <td>kitchen</td>\n",
       "      <td>house</td>\n",
       "      <td>kitchen</td>\n",
       "      <td>7.0</td>\n",
       "      <td>cup</td>\n",
       "      <td>cup</td>\n",
       "      <td>cup</td>\n",
       "      <td>NaN</td>\n",
       "      <td>...</td>\n",
       "      <td>3.071067</td>\n",
       "      <td>53.500000</td>\n",
       "      <td>1.572153</td>\n",
       "      <td>7.000000</td>\n",
       "      <td>0.484648</td>\n",
       "      <td>2.000000</td>\n",
       "      <td>1.689245</td>\n",
       "      <td>5.000000</td>\n",
       "      <td>NaN</td>\n",
       "      <td>NaN</td>\n",
       "    </tr>\n",
       "  </tbody>\n",
       "</table>\n",
       "<p>5 rows × 167 columns</p>\n",
       "</div>"
      ],
      "text/plain": [
       "              collection_year Description host_or_room host_type host_type2  \\\n",
       "#SampleID                                                                     \n",
       "Che.214.bedr             2012    Peru2012      bedroom     house      floor   \n",
       "Che.216.livi             2012    Peru2012       living     house      floor   \n",
       "Che.209.kitc             2012    Peru2012      kitchen     house      floor   \n",
       "Che.284.livi             2012    Peru2012       living     house      floor   \n",
       "Che.278.kitc             2012    Peru2012      kitchen     house    kitchen   \n",
       "\n",
       "              house_number sample_site description sample_site_general  \\\n",
       "#SampleID                                                                \n",
       "Che.214.bedr           6.0       floor       floor               floor   \n",
       "Che.216.livi           6.0       floor       floor               floor   \n",
       "Che.209.kitc           6.0       floor       floor               floor   \n",
       "Che.284.livi           7.0       floor       floor               floor   \n",
       "Che.278.kitc           7.0         cup         cup                 cup   \n",
       "\n",
       "             socioeconomic_level  ... Shannon_16S    chao_16S Shannon_18S  \\\n",
       "#SampleID                         ...                                       \n",
       "Che.214.bedr                 NaN  ...    6.032639  384.558823    4.451843   \n",
       "Che.216.livi                 NaN  ...    4.882074  399.235294         NaN   \n",
       "Che.209.kitc                 NaN  ...    7.249349  753.500000         NaN   \n",
       "Che.284.livi                 NaN  ...    5.944746  433.217391    6.031111   \n",
       "Che.278.kitc                 NaN  ...    3.071067   53.500000    1.572153   \n",
       "\n",
       "                chao_18S Shannon_18SnoAPF chao_18SnoAPF Shannon_ITS  \\\n",
       "#SampleID                                                             \n",
       "Che.214.bedr   42.000000              NaN           NaN         NaN   \n",
       "Che.216.livi         NaN              NaN           NaN         NaN   \n",
       "Che.209.kitc         NaN              NaN           NaN         NaN   \n",
       "Che.284.livi  285.066667         5.465250    131.433333    5.755548   \n",
       "Che.278.kitc    7.000000         0.484648      2.000000    1.689245   \n",
       "\n",
       "                chao_ITS Shannon_MS Observed_richness_MS  \n",
       "#SampleID                                                 \n",
       "Che.214.bedr         NaN   4.843564                109.0  \n",
       "Che.216.livi         NaN   4.766682                106.0  \n",
       "Che.209.kitc         NaN   4.588729                101.0  \n",
       "Che.284.livi  217.487179   4.645737                109.0  \n",
       "Che.278.kitc    5.000000        NaN                  NaN  \n",
       "\n",
       "[5 rows x 167 columns]"
      ]
     },
     "execution_count": 12,
     "metadata": {},
     "output_type": "execute_result"
    }
   ],
   "source": [
    "meta = pd.read_csv(meta_fp, sep='\\t', index_col=0)\n",
    "meta.head()"
   ]
  },
  {
   "cell_type": "code",
   "execution_count": 13,
   "metadata": {},
   "outputs": [
    {
     "data": {
      "text/plain": [
       "2270"
      ]
     },
     "execution_count": 13,
     "metadata": {},
     "output_type": "execute_result"
    }
   ],
   "source": [
    "meta.shape[0]"
   ]
  },
  {
   "cell_type": "markdown",
   "metadata": {},
   "source": [
    "Filter metadata to those in PCoA"
   ]
  },
  {
   "cell_type": "code",
   "execution_count": 14,
   "metadata": {},
   "outputs": [
    {
     "data": {
      "text/plain": [
       "401"
      ]
     },
     "execution_count": 14,
     "metadata": {},
     "output_type": "execute_result"
    }
   ],
   "source": [
    "meta = meta.loc[pcoa.index]\n",
    "meta.shape[0]"
   ]
  },
  {
   "cell_type": "markdown",
   "metadata": {},
   "source": [
    "Filter metadata to those with all test variables"
   ]
  },
  {
   "cell_type": "code",
   "execution_count": 15,
   "metadata": {},
   "outputs": [
    {
     "data": {
      "text/plain": [
       "124"
      ]
     },
     "execution_count": 15,
     "metadata": {},
     "output_type": "execute_result"
    }
   ],
   "source": [
    "meta = meta[cols].dropna()\n",
    "meta.shape[0]"
   ]
  },
  {
   "cell_type": "markdown",
   "metadata": {},
   "source": [
    "Filter PCoA to those in filtered metadata"
   ]
  },
  {
   "cell_type": "code",
   "execution_count": 16,
   "metadata": {},
   "outputs": [
    {
     "data": {
      "text/plain": [
       "124"
      ]
     },
     "execution_count": 16,
     "metadata": {},
     "output_type": "execute_result"
    }
   ],
   "source": [
    "pcoa = pcoa.loc[meta.index]\n",
    "pcoa.shape[0]"
   ]
  },
  {
   "cell_type": "code",
   "execution_count": 17,
   "metadata": {},
   "outputs": [
    {
     "data": {
      "text/html": [
       "<div>\n",
       "<style scoped>\n",
       "    .dataframe tbody tr th:only-of-type {\n",
       "        vertical-align: middle;\n",
       "    }\n",
       "\n",
       "    .dataframe tbody tr th {\n",
       "        vertical-align: top;\n",
       "    }\n",
       "\n",
       "    .dataframe thead th {\n",
       "        text-align: right;\n",
       "    }\n",
       "</style>\n",
       "<table border=\"1\" class=\"dataframe\">\n",
       "  <thead>\n",
       "    <tr style=\"text-align: right;\">\n",
       "      <th></th>\n",
       "      <th>village_socio2</th>\n",
       "      <th>temp_inside_house</th>\n",
       "      <th>carbon_dioxide_inside</th>\n",
       "      <th>light_lux_inside</th>\n",
       "      <th>PC1</th>\n",
       "      <th>PC2</th>\n",
       "      <th>PC3</th>\n",
       "      <th>PC4</th>\n",
       "      <th>PC5</th>\n",
       "      <th>PC6</th>\n",
       "      <th>PC7</th>\n",
       "      <th>PC8</th>\n",
       "      <th>PC9</th>\n",
       "      <th>PC10</th>\n",
       "    </tr>\n",
       "    <tr>\n",
       "      <th>#SampleID</th>\n",
       "      <th></th>\n",
       "      <th></th>\n",
       "      <th></th>\n",
       "      <th></th>\n",
       "      <th></th>\n",
       "      <th></th>\n",
       "      <th></th>\n",
       "      <th></th>\n",
       "      <th></th>\n",
       "      <th></th>\n",
       "      <th></th>\n",
       "      <th></th>\n",
       "      <th></th>\n",
       "      <th></th>\n",
       "    </tr>\n",
       "  </thead>\n",
       "  <tbody>\n",
       "    <tr>\n",
       "      <th>Iqu.1029.bath</th>\n",
       "      <td>Iquitos</td>\n",
       "      <td>29.0</td>\n",
       "      <td>443.0</td>\n",
       "      <td>13.0</td>\n",
       "      <td>-0.008255</td>\n",
       "      <td>-0.097649</td>\n",
       "      <td>-0.006701</td>\n",
       "      <td>0.051108</td>\n",
       "      <td>0.172698</td>\n",
       "      <td>0.017710</td>\n",
       "      <td>-0.025928</td>\n",
       "      <td>-0.012968</td>\n",
       "      <td>0.065092</td>\n",
       "      <td>-0.081307</td>\n",
       "    </tr>\n",
       "    <tr>\n",
       "      <th>Pue.630.bath</th>\n",
       "      <td>Puerto Almendras</td>\n",
       "      <td>26.0</td>\n",
       "      <td>446.0</td>\n",
       "      <td>366.0</td>\n",
       "      <td>0.145713</td>\n",
       "      <td>-0.067697</td>\n",
       "      <td>-0.098993</td>\n",
       "      <td>0.248177</td>\n",
       "      <td>0.095273</td>\n",
       "      <td>0.056089</td>\n",
       "      <td>0.006065</td>\n",
       "      <td>0.017477</td>\n",
       "      <td>0.010924</td>\n",
       "      <td>-0.062381</td>\n",
       "    </tr>\n",
       "    <tr>\n",
       "      <th>Man.1605.kitc</th>\n",
       "      <td>Manaus middle</td>\n",
       "      <td>33.0</td>\n",
       "      <td>471.0</td>\n",
       "      <td>964.0</td>\n",
       "      <td>0.082739</td>\n",
       "      <td>0.019453</td>\n",
       "      <td>0.133187</td>\n",
       "      <td>-0.080968</td>\n",
       "      <td>0.050221</td>\n",
       "      <td>-0.027537</td>\n",
       "      <td>0.063594</td>\n",
       "      <td>0.072533</td>\n",
       "      <td>-0.095644</td>\n",
       "      <td>-0.020715</td>\n",
       "    </tr>\n",
       "    <tr>\n",
       "      <th>Iqu.865.kitc</th>\n",
       "      <td>Iquitos</td>\n",
       "      <td>29.0</td>\n",
       "      <td>461.0</td>\n",
       "      <td>3029.0</td>\n",
       "      <td>-0.082312</td>\n",
       "      <td>0.316902</td>\n",
       "      <td>0.049112</td>\n",
       "      <td>0.052528</td>\n",
       "      <td>-0.054116</td>\n",
       "      <td>0.002821</td>\n",
       "      <td>-0.002373</td>\n",
       "      <td>0.014652</td>\n",
       "      <td>-0.116470</td>\n",
       "      <td>0.009453</td>\n",
       "    </tr>\n",
       "    <tr>\n",
       "      <th>Pue.626.kitc</th>\n",
       "      <td>Puerto Almendras</td>\n",
       "      <td>26.0</td>\n",
       "      <td>446.0</td>\n",
       "      <td>366.0</td>\n",
       "      <td>0.155853</td>\n",
       "      <td>-0.126487</td>\n",
       "      <td>-0.123328</td>\n",
       "      <td>0.003990</td>\n",
       "      <td>0.122759</td>\n",
       "      <td>0.365893</td>\n",
       "      <td>0.018334</td>\n",
       "      <td>-0.111312</td>\n",
       "      <td>0.022670</td>\n",
       "      <td>0.082601</td>\n",
       "    </tr>\n",
       "  </tbody>\n",
       "</table>\n",
       "</div>"
      ],
      "text/plain": [
       "                 village_socio2  temp_inside_house  carbon_dioxide_inside  \\\n",
       "#SampleID                                                                   \n",
       "Iqu.1029.bath           Iquitos               29.0                  443.0   \n",
       "Pue.630.bath   Puerto Almendras               26.0                  446.0   \n",
       "Man.1605.kitc     Manaus middle               33.0                  471.0   \n",
       "Iqu.865.kitc            Iquitos               29.0                  461.0   \n",
       "Pue.626.kitc   Puerto Almendras               26.0                  446.0   \n",
       "\n",
       "               light_lux_inside       PC1       PC2       PC3       PC4  \\\n",
       "#SampleID                                                                 \n",
       "Iqu.1029.bath              13.0 -0.008255 -0.097649 -0.006701  0.051108   \n",
       "Pue.630.bath              366.0  0.145713 -0.067697 -0.098993  0.248177   \n",
       "Man.1605.kitc             964.0  0.082739  0.019453  0.133187 -0.080968   \n",
       "Iqu.865.kitc             3029.0 -0.082312  0.316902  0.049112  0.052528   \n",
       "Pue.626.kitc              366.0  0.155853 -0.126487 -0.123328  0.003990   \n",
       "\n",
       "                    PC5       PC6       PC7       PC8       PC9      PC10  \n",
       "#SampleID                                                                  \n",
       "Iqu.1029.bath  0.172698  0.017710 -0.025928 -0.012968  0.065092 -0.081307  \n",
       "Pue.630.bath   0.095273  0.056089  0.006065  0.017477  0.010924 -0.062381  \n",
       "Man.1605.kitc  0.050221 -0.027537  0.063594  0.072533 -0.095644 -0.020715  \n",
       "Iqu.865.kitc  -0.054116  0.002821 -0.002373  0.014652 -0.116470  0.009453  \n",
       "Pue.626.kitc   0.122759  0.365893  0.018334 -0.111312  0.022670  0.082601  "
      ]
     },
     "execution_count": 17,
     "metadata": {},
     "output_type": "execute_result"
    }
   ],
   "source": [
    "df = pd.concat([meta, pcoa], axis=1)\n",
    "df.head()"
   ]
  },
  {
   "cell_type": "markdown",
   "metadata": {},
   "source": [
    "Convert Python lists to numpy arrays so they can be imported into R"
   ]
  },
  {
   "cell_type": "code",
   "execution_count": 18,
   "metadata": {},
   "outputs": [],
   "source": [
    "xcols = np.array(cols)\n",
    "ycols = np.array(['PC%d' % (i+1) for i in range(n)])"
   ]
  },
  {
   "cell_type": "markdown",
   "metadata": {},
   "source": [
    "### Analysis"
   ]
  },
  {
   "cell_type": "markdown",
   "metadata": {},
   "source": [
    "Import data into R and split"
   ]
  },
  {
   "cell_type": "code",
   "execution_count": 19,
   "metadata": {},
   "outputs": [],
   "source": [
    "%%R -i df,xcols,ycols\n",
    "X <- df[, xcols]\n",
    "Y <- df[, ycols]"
   ]
  },
  {
   "cell_type": "markdown",
   "metadata": {},
   "source": [
    "Run RDA"
   ]
  },
  {
   "cell_type": "code",
   "execution_count": 20,
   "metadata": {},
   "outputs": [],
   "source": [
    "%%R\n",
    "mod0 <- rda(Y ~ 1, X)\n",
    "mod1 <- rda(Y ~ ., X)"
   ]
  },
  {
   "cell_type": "markdown",
   "metadata": {},
   "source": [
    "Model fitting"
   ]
  },
  {
   "cell_type": "code",
   "execution_count": 21,
   "metadata": {},
   "outputs": [
    {
     "data": {
      "text/plain": [
       "Step: R2.adj= 0 \n",
       "Call: Y ~ 1 \n",
       " \n",
       "                        R2.adjusted\n",
       "<All variables>          0.23526671\n",
       "+ village_socio2         0.23024750\n",
       "+ carbon_dioxide_inside  0.03088074\n",
       "+ temp_inside_house      0.02319487\n",
       "+ light_lux_inside       0.01111018\n",
       "<none>                   0.00000000\n",
       "\n",
       "                 Df    AIC      F Pr(>F)   \n",
       "+ village_socio2  3 -247.5 13.264  0.002 **\n",
       "---\n",
       "Signif. codes:  0 ‘***’ 0.001 ‘**’ 0.01 ‘*’ 0.05 ‘.’ 0.1 ‘ ’ 1\n",
       "\n",
       "Step: R2.adj= 0.2302475 \n",
       "Call: Y ~ village_socio2 \n",
       " \n",
       "                        R2.adjusted\n",
       "<All variables>           0.2352667\n",
       "+ light_lux_inside        0.2342682\n",
       "+ carbon_dioxide_inside   0.2333398\n",
       "<none>                    0.2302475\n",
       "+ temp_inside_house       0.2280135\n",
       "\n",
       "                   Df     AIC      F Pr(>F)\n",
       "+ light_lux_inside  1 -247.18 1.6301   0.15\n",
       "\n"
      ]
     },
     "metadata": {},
     "output_type": "display_data"
    }
   ],
   "source": [
    "%%R\n",
    "model <- ordiR2step(mod0, mod1, perm.max = 1000)"
   ]
  },
  {
   "cell_type": "code",
   "execution_count": 22,
   "metadata": {
    "scrolled": true
   },
   "outputs": [
    {
     "data": {
      "text/plain": [
       "                  R2.adj Df    AIC      F Pr(>F)   \n",
       "+ village_socio2 0.23025  3 -247.5 13.264  0.002 **\n",
       "<All variables>  0.23527                           \n",
       "---\n",
       "Signif. codes:  0 ‘***’ 0.001 ‘**’ 0.01 ‘*’ 0.05 ‘.’ 0.1 ‘ ’ 1\n"
      ]
     },
     "metadata": {},
     "output_type": "display_data"
    }
   ],
   "source": [
    "%%R\n",
    "model$anova"
   ]
  },
  {
   "cell_type": "code",
   "execution_count": 23,
   "metadata": {},
   "outputs": [
    {
     "data": {
      "text/plain": [
       "0.005019999999999997"
      ]
     },
     "execution_count": 23,
     "metadata": {},
     "output_type": "execute_result"
    }
   ],
   "source": [
    "0.23527 - 0.23025"
   ]
  },
  {
   "cell_type": "code",
   "execution_count": null,
   "metadata": {},
   "outputs": [],
   "source": []
  }
 ],
 "metadata": {
  "kernelspec": {
   "display_name": "Python 3",
   "language": "python",
   "name": "python3"
  },
  "language_info": {
   "codemirror_mode": {
    "name": "ipython",
    "version": 3
   },
   "file_extension": ".py",
   "mimetype": "text/x-python",
   "name": "python",
   "nbconvert_exporter": "python",
   "pygments_lexer": "ipython3",
   "version": "3.7.3"
  }
 },
 "nbformat": 4,
 "nbformat_minor": 2
}
