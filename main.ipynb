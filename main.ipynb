{
 "cells": [
  {
   "cell_type": "markdown",
   "metadata": {},
   "source": [
    "# Amazon urbanization project analysis protocol"
   ]
  },
  {
   "cell_type": "markdown",
   "metadata": {},
   "source": [
    "Contributors: Laura-Isobel McCall, Chris Callewaert, Qiyun Zhu, Se Jin Song, James T. Morton"
   ]
  },
  {
   "cell_type": "markdown",
   "metadata": {},
   "source": [
    "## Background"
   ]
  },
  {
   "cell_type": "markdown",
   "metadata": {},
   "source": [
    " - Qiita study ID: [10333](https://qiita.ucsd.edu/study/description/10333) (title: *Dominguez Sloan SAWesternization gradient*).\n",
    " - Barnacle project directory: `sloan_10333`\n",
    " - EBI data deposition: [ERP107551](https://www.ebi.ac.uk/ena/data/view/ERP107551)."
   ]
  },
  {
   "cell_type": "markdown",
   "metadata": {},
   "source": [
    "## DNA data analysis"
   ]
  },
  {
   "cell_type": "markdown",
   "metadata": {},
   "source": [
    "### Information"
   ]
  },
  {
   "cell_type": "markdown",
   "metadata": {},
   "source": [
    "Qiita prep IDs:\n",
    " - 16S: 1227, 1228, 1229, 1234\n",
    " - 18S: 1243\n",
    " - ITS: 1235"
   ]
  },
  {
   "cell_type": "markdown",
   "metadata": {},
   "source": [
    "For 16S, dowload auto-deblurred BIOM tables from Qiita\n",
    " - Against Greengenes release 13_8, 88% OTU\n",
    " - dflt_30888, dflt_30777, dflt_30890, dflt_30585"
   ]
  },
  {
   "cell_type": "markdown",
   "metadata": {},
   "source": [
    "For 18S and ITS data, run deblur locally on proper databases.\n",
    " - Using deblur version 1.0.2\n",
    " - 18S against Silva release 123, 80% OTU\n",
    " - ITS against UNITE release 7.1, 97% OTU\n",
    " \n",
    "Note: These database releases were chosen because they were already deployed in Barnacle. To download them fresh, the links are [18S](https://www.arb-silva.de/fileadmin/silva_databases/qiime/Silva_123_release.zip) and [ITS](https://unite.ut.ee/sh_files/sh_qiime_release_s_22.08.2016.zip). The guideline in the QIIME [website](http://qiime.org/home_static/dataFiles.html) was followed in selecting databases.\n",
    " \n",
    "Note: The deblur parameters were set following the default setting in Qiita."
   ]
  },
  {
   "cell_type": "markdown",
   "metadata": {},
   "source": [
    "### Pre-processing"
   ]
  },
  {
   "cell_type": "code",
   "execution_count": null,
   "metadata": {
    "collapsed": true
   },
   "outputs": [],
   "source": [
    "%%bash\n",
    "\n",
    "# 16S: 4 preps (already automated in Qiita)\n",
    "pos_ref_fp=/databases/gg/13_8/rep_set/88_otus.fasta\n",
    "pos_ref_db_fp=/databases/gg/13_8/sortmerna/88_otus\n",
    "\n",
    "# 18S: dflt_29852\n",
    "pos_ref_fp=/databases/silva_18s/silva123/silva_18s/80_otus_18S.fasta\n",
    "pos_ref_db_fp=/databases/silva_18s/silva123/silva_18S/80_otus_18S\n",
    "\n",
    "# ITS: dflt_29828\n",
    "pos_ref_fp=/databases/unite/7_1/sh_refs_qiime_ver7_97_s_22.08.2016.fasta\n",
    "pos_ref_db_fp=/databases/unite/7_1/unite_ITS"
   ]
  },
  {
   "cell_type": "code",
   "execution_count": null,
   "metadata": {
    "collapsed": true
   },
   "outputs": [],
   "source": [
    "%%bash\n",
    "source activate deblurenv\n",
    "\n",
    "deblur workflow \\\n",
    "  --seqs-fp seqs.fasta \\\n",
    "  --output-dir $outdir \\\n",
    "  --trim-length -1 \\\n",
    "  --pos-ref-fp ${pos_ref_fp} \\\n",
    "  --pos-ref-db-fp ${pos_ref_db_fp} \\\n",
    "  --min-reads 0"
   ]
  },
  {
   "cell_type": "markdown",
   "metadata": {},
   "source": [
    "Drop all blank samples, and translate sample IDs to a simpler, uniform format."
   ]
  },
  {
   "cell_type": "code",
   "execution_count": null,
   "metadata": {
    "collapsed": true
   },
   "outputs": [],
   "source": [
    "%%python\n",
    "from biom import load_table\n",
    "from biom.util import biom_open\n",
    "\n",
    "table = load_table('16S/prep_1227/dflt_30888.biom')\n",
    "\n",
    "ids_to_keep = set([x for x in table.ids() if not 'blank' in x.lower()])\n",
    "table.filter(ids_to_keep=ids_to_keep, inplace=True)\n",
    "\n",
    "with open('id_map.txt', 'r') as f:\n",
    "    id_map = dict(x.split('\\t') for x in f.read().splitlines())\n",
    "table.update_ids(id_map=id_map)\n",
    "\n",
    "with biom_open('prep_1227.biom', 'w') as f:\n",
    "    table.to_hdf5(f, table.generated_by)"
   ]
  },
  {
   "cell_type": "markdown",
   "metadata": {},
   "source": [
    "Merge the four 16S BIOM tables into one."
   ]
  },
  {
   "cell_type": "code",
   "execution_count": null,
   "metadata": {
    "collapsed": true
   },
   "outputs": [],
   "source": [
    "%%bash\n",
    "merge_otu_tables.py \\\n",
    "  --input_fps prep_1227,prep_1228.biom,prep_1229.biom,prep_1234.biom \\\n",
    "  --output_fp 16S.biom"
   ]
  },
  {
   "cell_type": "markdown",
   "metadata": {},
   "source": [
    "### Taxonomic assignment"
   ]
  },
  {
   "cell_type": "markdown",
   "metadata": {},
   "source": [
    "Get sequences from BIOM tables"
   ]
  },
  {
   "cell_type": "code",
   "execution_count": null,
   "metadata": {
    "collapsed": true
   },
   "outputs": [],
   "source": [
    "%%bash\n",
    "biom convert --to-tsv -i 16S.biom -o 16S.tsv\n",
    "while read line\n",
    "do\n",
    "  echo '>'$line >> 16S.fa\n",
    "  echo $line >> 16S.fa\n",
    "done < <(cat 16S.tsv | grep -v '#' | cut -f1)"
   ]
  },
  {
   "cell_type": "markdown",
   "metadata": {},
   "source": [
    "Reference databases (the finest clustering scheme (99%) was used)."
   ]
  },
  {
   "cell_type": "code",
   "execution_count": null,
   "metadata": {
    "collapsed": true
   },
   "outputs": [],
   "source": [
    "%%bash\n",
    "\n",
    "# 16S:\n",
    "reference_seqs_fp=/databases/gg/13_8/rep_set/99_otus.fasta\n",
    "id_to_taxonomy_fp=/databases/gg/13_8/taxonomy/99_otu_taxonomy.txt\n",
    "\n",
    "# 18S:\n",
    "reference_seqs_fp=rep_set/rep_set_18S_only/99/99_otus_18S.fasta\n",
    "id_to_taxonomy_fp=taxonomy/18S_only/99/taxonomy_7_levels.txt\n",
    "\n",
    "# ITS:\n",
    "reference_seqs_fp=sh_refs_qiime_ver7_99_s_22.08.2016.fasta\n",
    "id_to_taxonomy_fp=sh_taxonomy_qiime_ver7_99_s_22.08.2016.txt"
   ]
  },
  {
   "cell_type": "markdown",
   "metadata": {},
   "source": [
    "Assign taxonomy using the [SortMeRNA](https://github.com/biocore/sortmerna) ([Kopylova, Noé and Touzet, 2012](https://academic.oup.com/bioinformatics/article/28/24/3211/246053)) method."
   ]
  },
  {
   "cell_type": "code",
   "execution_count": null,
   "metadata": {
    "collapsed": true
   },
   "outputs": [],
   "source": [
    "%%bash\n",
    "assign_taxonomy.py \\\n",
    "  --input_fasta_fp 16S.fa \\\n",
    "  --output_dir 16S \\\n",
    "  --reference_seqs_fp ${reference_seqs_fp} \\\n",
    "  --id_to_taxonomy_fp ${id_to_taxonomy_fp} \\\n",
    "  --assignment_method sortmerna"
   ]
  },
  {
   "cell_type": "markdown",
   "metadata": {},
   "source": [
    "Check assignment ratio"
   ]
  },
  {
   "cell_type": "code",
   "execution_count": null,
   "metadata": {
    "collapsed": true
   },
   "outputs": [],
   "source": [
    "%%bash\n",
    "# total sequences\n",
    "cat 16S/16S_tax_assignments.txt | tail -n+2 | wc -l\n",
    "# unassigned sequences\n",
    "cat 16S/16S_tax_assignments.txt | tail -n+2 | grep $'\\t'Unassigned$'\\t' | wc -l"
   ]
  },
  {
   "cell_type": "markdown",
   "metadata": {},
   "source": [
    "Unassignment ratios:\n",
    " - 16S: 7501 / 210370 = 3.56%\n",
    " - 18S: 6688 / 29778 = 22.46%\n",
    " - ITS: 5032 / 47062 = 10.69%"
   ]
  },
  {
   "cell_type": "markdown",
   "metadata": {},
   "source": [
    "Append taxonomy to BIOM tables"
   ]
  },
  {
   "cell_type": "code",
   "execution_count": null,
   "metadata": {},
   "outputs": [],
   "source": [
    "%%bash\n",
    "biom add-metadata \\\n",
    "  --input-fp 16S.biom \\\n",
    "  --output-fp 16S.wtax.biom \\\n",
    "  --observation-metadata-fp 16S/16S_tax_assignments.txt \\\n",
    "  --observation-header OTUID,taxonomy \\\n",
    "  --sc-separated taxonomy"
   ]
  },
  {
   "cell_type": "markdown",
   "metadata": {},
   "source": [
    "There were non-standard characters in the ITS assignment result (specifically, `s__Montagnula_aloës`), which caused error running biom add-metdata. We followed the protocol [here](https://groups.google.com/forum/#!topic/qiime-forum/W6NqdoWhNfI) to resolve the issue."
   ]
  },
  {
   "cell_type": "markdown",
   "metadata": {},
   "source": [
    "### Post-processing"
   ]
  },
  {
   "cell_type": "markdown",
   "metadata": {},
   "source": [
    "For 16S, perform bloom-filtering, using the script and references provided in [Amir et al. (2017)](http://msystems.asm.org/content/2/2/e00199-16)."
   ]
  },
  {
   "cell_type": "code",
   "execution_count": null,
   "metadata": {},
   "outputs": [],
   "source": [
    "%%bash\n",
    "python filterbiomseqs.py -i 16S.biom -o 16S.bf.biom -f newbloom.10.fna"
   ]
  },
  {
   "cell_type": "markdown",
   "metadata": {},
   "source": [
    "But there was no bloom sequences found. So this step was omitted."
   ]
  },
  {
   "cell_type": "markdown",
   "metadata": {},
   "source": [
    "Filter out sequences with <10 counts study-wide."
   ]
  },
  {
   "cell_type": "code",
   "execution_count": null,
   "metadata": {
    "collapsed": true
   },
   "outputs": [],
   "source": [
    "%%bash\n",
    "filter_otus_from_otu_table.py -i 16S.biom -o 16S.n10.biom -n 10\n",
    "filter_otus_from_otu_table.py -i 16S.wtax.biom -o 16S.wtax.n10.biom -n 10"
   ]
  },
  {
   "cell_type": "markdown",
   "metadata": {},
   "source": [
    "For 18S, perform taxonomic filterings."
   ]
  },
  {
   "cell_type": "code",
   "execution_count": null,
   "metadata": {},
   "outputs": [],
   "source": [
    "%%bash\n",
    "# no fungi\n",
    "filter_taxa_from_otu_table.py -i 18S.biom -n \"D_3__Fungi\" -o 18S.noFungi.biom\n",
    "# animals only\n",
    "filter_taxa_from_otu_table.py -i 18S.biom -p \"D_3__Metazoa (Animalia)\" -o 18S.animals.biom\n",
    "# plants only (green algae and land plants)\n",
    "filter_taxa_from_otu_table.py -i 18S.biom -p \"D_2__Chloroplastida\" -o 18S.plants.biom\n",
    "# no animal, plants and fungi\n",
    "filter_taxa_from_otu_table.py -i 18S.biom -n \"D_3__Fungi,D_3__Metazoa (Animalia),D_2__Chloroplastida\" -o 18S.noAPF.biom"
   ]
  },
  {
   "cell_type": "markdown",
   "metadata": {},
   "source": [
    "Perforn rarefaction, to a sampling depth of 1000."
   ]
  },
  {
   "cell_type": "code",
   "execution_count": null,
   "metadata": {
    "collapsed": true
   },
   "outputs": [],
   "source": [
    "%%bash\n",
    "filter_samples_from_otu_table.py -i 16S.biom -o 16S.mc1000.biom -n 1000\n",
    "single_rarefaction.py -i 16S.mc1000.biom -o 16S.even1000.biom -d 1000"
   ]
  },
  {
   "cell_type": "markdown",
   "metadata": {},
   "source": [
    "From this point on, all subsequent analyses were based on `16S.even1000.biom`, unless otherwise stated."
   ]
  },
  {
   "cell_type": "markdown",
   "metadata": {},
   "source": [
    "Filter human vs house samples."
   ]
  },
  {
   "cell_type": "code",
   "execution_count": null,
   "metadata": {},
   "outputs": [],
   "source": [
    "%%bash\n",
    "filter_samples_from_otu_table.py -i 16S.biom -m metadata.txt -s 'host_type:human' -o 16S.human.biom\n",
    "filter_samples_from_otu_table.py -i 16S.biom -m metadata.txt -s 'host_type:house' -o 16S.house.biom"
   ]
  },
  {
   "cell_type": "markdown",
   "metadata": {},
   "source": [
    "Taxonomic profiling."
   ]
  },
  {
   "cell_type": "code",
   "execution_count": null,
   "metadata": {
    "collapsed": true
   },
   "outputs": [],
   "source": [
    "%%bash\n",
    "sort_otu_table.py -i 16S.biom -o 16S.sorted.biom\n",
    "summarize_taxa.py -i 16S.sorted.biom -o 16S"
   ]
  },
  {
   "cell_type": "markdown",
   "metadata": {},
   "source": [
    "### Alpha diversity"
   ]
  },
  {
   "cell_type": "code",
   "execution_count": null,
   "metadata": {
    "collapsed": true
   },
   "outputs": [],
   "source": [
    "%%bash\n",
    "multiple_rarefactions.py -i 16S.mc1000.biom -m 10 -x 1000 -s 99 -o 16S.multi\n",
    "alpha_diversity.py -i 16S.multi -o 16S.alpha --metrics observed_otus,chao1,shannon\n",
    "collate_alpha.py -i 16S.alpha -o 16S\n",
    "rm -rf 16S.alpha 16S.multi"
   ]
  },
  {
   "cell_type": "markdown",
   "metadata": {},
   "source": [
    "### Beta diversity"
   ]
  },
  {
   "cell_type": "code",
   "execution_count": null,
   "metadata": {
    "collapsed": true
   },
   "outputs": [],
   "source": [
    "%%bash\n",
    "for metric in bray_curtis abund_jaccard\n",
    "do\n",
    "    beta_diversity.py --metrics $metric -i 16S.biom -o .\n",
    "    principal_coordinates.py -i ${metric}_16S.txt -o ${metric}_16S.pcoa\n",
    "    make_emperor.py -m metadata.tsv -i ${metric}_16S.pcoa -o ${metric}_16S.emp1\n",
    "done"
   ]
  },
  {
   "cell_type": "markdown",
   "metadata": {},
   "source": [
    "Visualization was also performed using Emperor bundled in QIIME 2."
   ]
  },
  {
   "cell_type": "code",
   "execution_count": null,
   "metadata": {},
   "outputs": [],
   "source": [
    "%%bash\n",
    "qiime tools import --type PCoAResults --input-path ${metric}_16S.pcoa --output-path ${metric}_16S.pcoa.qza\n",
    "qiime emperor plot --m-metadata-file metadata.tsv --i-pcoa ${metric}_16S.pcoa.qza --o-visualization ${metric}_16S.pcoa.emp2.qzv"
   ]
  },
  {
   "cell_type": "markdown",
   "metadata": {},
   "source": [
    "Supervised classification, using the [random forest](https://en.wikipedia.org/wiki/Random_forest) method."
   ]
  },
  {
   "cell_type": "code",
   "execution_count": 7,
   "metadata": {
    "scrolled": true
   },
   "outputs": [],
   "source": [
    "%%bash\n",
    "supervised_learning.py \\\n",
    "  --input_data 16S.biom \\\n",
    "  --output_fp $category \\\n",
    "  --mapping_fp $category.txt \\\n",
    "  --category $category/16S"
   ]
  },
  {
   "cell_type": "markdown",
   "metadata": {},
   "source": [
    "Compare categories, using the [adonis](http://cc.oulu.fi/~jarioksa/softhelp/vegan/html/adonis.html) method (a.k.a., PERMANOVA) as implemented in vegan 2.4-4."
   ]
  },
  {
   "cell_type": "code",
   "execution_count": 10,
   "metadata": {},
   "outputs": [],
   "source": [
    "%%bash\n",
    "compare_categories.py \\\n",
    "  --method adonis \\\n",
    "  --input_dm bray_curtis_16S.txt \\\n",
    "  --output_dir $category/16S \\\n",
    "  --mapping_file $category.txt \\\n",
    "  --categories $category \\\n",
    "  --num_permutations 999"
   ]
  },
  {
   "cell_type": "markdown",
   "metadata": {},
   "source": [
    "## MS data analysis"
   ]
  },
  {
   "cell_type": "markdown",
   "metadata": {},
   "source": [
    "Alpha diversity: observed richness"
   ]
  },
  {
   "cell_type": "markdown",
   "metadata": {},
   "source": [
    "### Beta diversity"
   ]
  },
  {
   "cell_type": "markdown",
   "metadata": {},
   "source": [
    "Analyzed using the same protocol as that for DNA."
   ]
  },
  {
   "cell_type": "code",
   "execution_count": null,
   "metadata": {},
   "outputs": [],
   "source": [
    "%%bash\n",
    "# QIIME 1\n",
    "beta_diversity.py --metrics bray_curtis -i MS.biom -o .\n",
    "principal_coordinates.py -i bray_curtis_MS.txt -o bray_curtis_MS.pcoa\n",
    "make_emperor.py -m metadata.tsv -i bray_curtis_MS.pcoa -o bray_curtis_MS.emp1"
   ]
  },
  {
   "cell_type": "code",
   "execution_count": null,
   "metadata": {},
   "outputs": [],
   "source": [
    "%%bash\n",
    "# QIIME 2\n",
    "qiime tools import --type PCoAResults --input-path bray_curtis_MS.pcoa --output-path bray_curtis_MS.pcoa.qza\n",
    "qiime emperor plot --m-metadata-file metadata.tsv --i-pcoa bray_curtis_MS.pcoa.qza --o-visualization bray_curtis_MS.pcoa.emp2.qzv"
   ]
  },
  {
   "cell_type": "markdown",
   "metadata": {},
   "source": [
    "## Multi-omics analysis"
   ]
  },
  {
   "cell_type": "markdown",
   "metadata": {},
   "source": [
    "### Pearson correlation"
   ]
  },
  {
   "cell_type": "markdown",
   "metadata": {},
   "source": [
    "Apply the Pearson correlation test on each of the three DNA feature tables, using the sum of relative abundances of each of the cleaning product categories as metadata."
   ]
  },
  {
   "cell_type": "code",
   "execution_count": null,
   "metadata": {},
   "outputs": [],
   "source": [
    "%%bash\n",
    "observation_metadata_correlation.py -s pearson -m metadata.tsv -c MS -i 16S.biom -o 16S.MS.txt"
   ]
  },
  {
   "cell_type": "markdown",
   "metadata": {},
   "source": [
    "Report the Pearson score and the Benjamini-Hochberg FDR-corrected p-value."
   ]
  },
  {
   "cell_type": "markdown",
   "metadata": {},
   "source": [
    "### PLSSVD"
   ]
  },
  {
   "cell_type": "markdown",
   "metadata": {},
   "source": [
    "We applied the Partial Least Squares Singular Value Decomposition (**PLSSVD**) method ([Kapono et al., 2018](https://www.nature.com/articles/s41598-018-21541-4)) to explore the correlation between microbiome and metabolome data and with their metadata."
   ]
  },
  {
   "cell_type": "markdown",
   "metadata": {},
   "source": [
    "Source codes are under the \"plssvd\" directory. They were derived and modified from the [original source codes](https://github.com/knightlab-analyses/office-study/tree/master/ipynb) used in Kapono et al. (2018)."
   ]
  },
  {
   "cell_type": "code",
   "execution_count": null,
   "metadata": {},
   "outputs": [],
   "source": [
    "%%bash\n",
    "python plssvd.py \\\n",
    "  metadata/house.txt \\\n",
    "  microbes/ITS.biom.qza \\\n",
    "  metabolites/all.biom.qza \\\n",
    "  microbes/label/ITS.txt \\\n",
    "  metabolites/label/trim.txt \\\n",
    "  > ITS_all_house.log"
   ]
  },
  {
   "cell_type": "markdown",
   "metadata": {},
   "source": [
    "## General statistics"
   ]
  },
  {
   "cell_type": "markdown",
   "metadata": {},
   "source": [
    "### Kruskal-Wallis test"
   ]
  },
  {
   "cell_type": "markdown",
   "metadata": {},
   "source": [
    "Example: Test whether the variance of 16S data among villages:"
   ]
  },
  {
   "cell_type": "code",
   "execution_count": null,
   "metadata": {},
   "outputs": [],
   "source": [
    "%%bash\n",
    "group_significance.py -s kruskal_wallis -i 16S.house.biom -m metadata.tsv -c village_socio -o output.txt"
   ]
  },
  {
   "cell_type": "markdown",
   "metadata": {},
   "source": [
    "### Fishers exact test"
   ]
  },
  {
   "cell_type": "markdown",
   "metadata": {},
   "source": [
    "Example: Text on `bac_match_nbrs` as the table of dataset matches per village."
   ]
  },
  {
   "cell_type": "code",
   "execution_count": null,
   "metadata": {},
   "outputs": [],
   "source": [
    "%%R\n",
    "fisher.test(bac_match_nbrs, workspace=2000000000)"
   ]
  },
  {
   "cell_type": "markdown",
   "metadata": {},
   "source": [
    "### Spearman test"
   ]
  },
  {
   "cell_type": "markdown",
   "metadata": {},
   "source": [
    "### PERMANOVA"
   ]
  },
  {
   "cell_type": "code",
   "execution_count": null,
   "metadata": {},
   "outputs": [],
   "source": [
    "%%R\n",
    "library('vegan')\n",
    "\n",
    "# read in the metadata table filtered to include human gut samples (fecal and anal), and the distance matrix.\n",
    "humangut<-read.table('./metadata_human_gut.txt', h=T,row.names=1,check=F)\n",
    "dm16s<-read.table('./bray_curtis_distance_matrix_16S.txt', h=T,row.names=1,check=F)\n",
    "\n",
    "# filter the distance matrix and metadata to samples that overlap \n",
    "ix <- intersect(rownames(humangut),rownames(dm16s))\n",
    "metadata<-humangut[ix,]\n",
    "dist <- as.dist(as.matrix(dm16s[ix,ix])\n",
    "\n",
    "# run permanova via the adonis function in the vegan package.\n",
    "adonis16sgut<-r(dist~metadata$village_socio, data=metadata[labels(dist),])"
   ]
  },
  {
   "cell_type": "markdown",
   "metadata": {},
   "source": [
    "### Wilcoxon rank sum test"
   ]
  },
  {
   "cell_type": "markdown",
   "metadata": {},
   "source": [
    "Example: Representative Wilcoxon test for mass spectrometry feature m/z 318.300 RT 329 sec, comparing between Checherta and Puerto Almendra:"
   ]
  },
  {
   "cell_type": "code",
   "execution_count": null,
   "metadata": {},
   "outputs": [],
   "source": [
    "%%R\n",
    "wilcox.test(Che_PA$X318.300.329.1..ID..1269.~Che_PA$village_socio)"
   ]
  },
  {
   "cell_type": "markdown",
   "metadata": {},
   "source": [
    "### Linear regression"
   ]
  },
  {
   "cell_type": "markdown",
   "metadata": {},
   "source": [
    "Example: Linear regression model analysis for mass spectrometry feature m/z 287.232 RT 211 sec:"
   ]
  },
  {
   "cell_type": "code",
   "execution_count": 13,
   "metadata": {},
   "outputs": [],
   "source": [
    "%%R\n",
    "model<-glm(formula=full_norm_Apr25metadata_noPeruvianSwabs_housing$X287.232.211.1..ID..4006.~ full_norm_Apr25metadata_noPeruvianSwabs_housing$village_socio, family=\"gaussian\")\n",
    "summary(model)\n",
    "anova(model, test=\"Chisq\")"
   ]
  },
  {
   "cell_type": "code",
   "execution_count": null,
   "metadata": {},
   "outputs": [],
   "source": []
  }
 ],
 "metadata": {
  "hide_input": false,
  "kernelspec": {
   "display_name": "Python 3",
   "language": "python",
   "name": "python3"
  },
  "language_info": {
   "codemirror_mode": {
    "name": "ipython",
    "version": 3
   },
   "file_extension": ".py",
   "mimetype": "text/x-python",
   "name": "python",
   "nbconvert_exporter": "python",
   "pygments_lexer": "ipython3",
   "version": "3.6.6"
  }
 },
 "nbformat": 4,
 "nbformat_minor": 2
}
