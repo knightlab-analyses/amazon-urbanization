{
 "cells": [
  {
   "cell_type": "markdown",
   "metadata": {},
   "source": [
    "# Amazon urbanization project analysis protocol"
   ]
  },
  {
   "cell_type": "markdown",
   "metadata": {},
   "source": [
    "Contributors: Laura-Isobel McCall, Chris Callewaert, Qiyun Zhu, Se Jin Song, James T. Morton"
   ]
  },
  {
   "cell_type": "markdown",
   "metadata": {
    "heading_collapsed": true
   },
   "source": [
    "## Sample information"
   ]
  },
  {
   "cell_type": "markdown",
   "metadata": {
    "hidden": true
   },
   "source": [
    "To be added."
   ]
  },
  {
   "cell_type": "markdown",
   "metadata": {
    "heading_collapsed": true
   },
   "source": [
    "## DNA data analysis"
   ]
  },
  {
   "cell_type": "markdown",
   "metadata": {
    "heading_collapsed": true,
    "hidden": true
   },
   "source": [
    "### Information"
   ]
  },
  {
   "cell_type": "markdown",
   "metadata": {
    "hidden": true
   },
   "source": [
    "Qiita project\n",
    " - Project ID: **10333**\n",
    " - Title: Dominguez Sloan SAWesternization gradient\n",
    " - Barnacle project directory: `sloan_10333`\n",
    " - Prep IDs:\n",
    "   - 16S: 1227, 1228, 1229, 1234\n",
    "   - 18S: 1243\n",
    "   - ITS: 1235"
   ]
  },
  {
   "cell_type": "markdown",
   "metadata": {
    "hidden": true
   },
   "source": [
    "For 16S, dowload auto-deblurred BIOM tables from Qiita\n",
    " - Against Greengenes release 13_8, 88% OTU\n",
    " - dflt_30888, dflt_30777, dflt_30890, dflt_30585"
   ]
  },
  {
   "cell_type": "markdown",
   "metadata": {
    "hidden": true
   },
   "source": [
    "For 18S and ITS data, run deblur locally on proper databases.\n",
    " - Using deblur version 1.0.2\n",
    " - 18S against Silva release 123, 80% OTU\n",
    " - ITS against UNITE release 7.1, 97% OTU\n",
    " \n",
    "Note: These database releases were chosen because they were already deployed in Barnacle. To download them fresh, the links are [18S](https://www.arb-silva.de/fileadmin/silva_databases/qiime/Silva_123_release.zip) and [ITS](https://unite.ut.ee/sh_files/sh_qiime_release_s_22.08.2016.zip). The guideline in the QIIME [website](http://qiime.org/home_static/dataFiles.html) was followed in selecting databases.\n",
    " \n",
    "Note: The deblur parameters were set following the default setting in Qiita."
   ]
  },
  {
   "cell_type": "markdown",
   "metadata": {
    "heading_collapsed": true,
    "hidden": true
   },
   "source": [
    "### Pre-process data"
   ]
  },
  {
   "cell_type": "code",
   "execution_count": null,
   "metadata": {
    "collapsed": true,
    "hidden": true
   },
   "outputs": [],
   "source": [
    "%%bash\n",
    "\n",
    "# 16S: 4 preps (already automated in Qiita)\n",
    "pos_ref_fp=/databases/gg/13_8/rep_set/88_otus.fasta\n",
    "pos_ref_db_fp=/databases/gg/13_8/sortmerna/88_otus\n",
    "\n",
    "# 18S: dflt_29852\n",
    "pos_ref_fp=/databases/silva_18s/silva123/silva_18s/80_otus_18S.fasta\n",
    "pos_ref_db_fp=/databases/silva_18s/silva123/silva_18S/80_otus_18S\n",
    "\n",
    "# ITS: dflt_29828\n",
    "pos_ref_fp=/databases/unite/7_1/sh_refs_qiime_ver7_97_s_22.08.2016.fasta\n",
    "pos_ref_db_fp=/databases/unite/7_1/unite_ITS"
   ]
  },
  {
   "cell_type": "code",
   "execution_count": null,
   "metadata": {
    "collapsed": true,
    "hidden": true
   },
   "outputs": [],
   "source": [
    "%%bash\n",
    "source activate deblurenv\n",
    "\n",
    "deblur workflow \\\n",
    "  --seqs-fp seqs.fasta \\\n",
    "  --output-dir $outdir \\\n",
    "  --trim-length -1 \\\n",
    "  --pos-ref-fp ${pos_ref_fp} \\\n",
    "  --pos-ref-db-fp ${pos_ref_db_fp} \\\n",
    "  --min-reads 0"
   ]
  },
  {
   "cell_type": "markdown",
   "metadata": {
    "hidden": true
   },
   "source": [
    "Drop all blank samples, and translate sample IDs to a simpler, uniform format."
   ]
  },
  {
   "cell_type": "code",
   "execution_count": null,
   "metadata": {
    "collapsed": true,
    "hidden": true
   },
   "outputs": [],
   "source": [
    "%%python\n",
    "from biom import load_table\n",
    "from biom.util import biom_open\n",
    "\n",
    "table = load_table('16S/prep_1227/dflt_30888.biom')\n",
    "\n",
    "ids_to_keep = set([x for x in table.ids() if not 'blank' in x.lower()])\n",
    "table.filter(ids_to_keep=ids_to_keep, inplace=True)\n",
    "\n",
    "with open('id_map.txt', 'r') as f:\n",
    "    id_map = dict(x.split('\\t') for x in f.read().splitlines())\n",
    "table.update_ids(id_map=id_map)\n",
    "\n",
    "with biom_open('prep_1227.biom', 'w') as f:\n",
    "    table.to_hdf5(f, table.generated_by)"
   ]
  },
  {
   "cell_type": "markdown",
   "metadata": {
    "hidden": true
   },
   "source": [
    "Merge the four 16S BIOM tables into one."
   ]
  },
  {
   "cell_type": "code",
   "execution_count": null,
   "metadata": {
    "collapsed": true,
    "hidden": true
   },
   "outputs": [],
   "source": [
    "%%bash\n",
    "merge_otu_tables.py \\\n",
    "  --input_fps prep_1227,prep_1228.biom,prep_1229.biom,prep_1234.biom \\\n",
    "  --output_fp 16S.biom"
   ]
  },
  {
   "cell_type": "markdown",
   "metadata": {
    "heading_collapsed": true,
    "hidden": true
   },
   "source": [
    "### Assign taxonomy"
   ]
  },
  {
   "cell_type": "markdown",
   "metadata": {
    "hidden": true
   },
   "source": [
    "Get sequences from BIOM tables"
   ]
  },
  {
   "cell_type": "code",
   "execution_count": null,
   "metadata": {
    "collapsed": true,
    "hidden": true
   },
   "outputs": [],
   "source": [
    "%%bash\n",
    "biom convert --to-tsv -i 16S.biom -o 16S.tsv\n",
    "while read line\n",
    "do\n",
    "  echo '>'$line >> 16S.fa\n",
    "  echo $line >> 16S.fa\n",
    "done < <(cat 16S.tsv | grep -v '#' | cut -f1)"
   ]
  },
  {
   "cell_type": "markdown",
   "metadata": {
    "hidden": true
   },
   "source": [
    "Reference databases (the finest clustering scheme (99%) was used)"
   ]
  },
  {
   "cell_type": "code",
   "execution_count": null,
   "metadata": {
    "collapsed": true,
    "hidden": true
   },
   "outputs": [],
   "source": [
    "%%bash\n",
    "\n",
    "# 16S:\n",
    "reference_seqs_fp=/databases/gg/13_8/rep_set/99_otus.fasta\n",
    "id_to_taxonomy_fp=/databases/gg/13_8/taxonomy/99_otu_taxonomy.txt\n",
    "\n",
    "# 18S:\n",
    "reference_seqs_fp=rep_set/rep_set_18S_only/99/99_otus_18S.fasta\n",
    "id_to_taxonomy_fp=taxonomy/18S_only/99/taxonomy_7_levels.txt\n",
    "\n",
    "# ITS:\n",
    "reference_seqs_fp=sh_refs_qiime_ver7_99_s_22.08.2016.fasta\n",
    "id_to_taxonomy_fp=sh_taxonomy_qiime_ver7_99_s_22.08.2016.txt"
   ]
  },
  {
   "cell_type": "markdown",
   "metadata": {
    "hidden": true
   },
   "source": [
    "Assign taxonomy using the [SortMeRNA](https://github.com/biocore/sortmerna) ([Kopylova, Noé and Touzet, 2012](https://academic.oup.com/bioinformatics/article/28/24/3211/246053)) method"
   ]
  },
  {
   "cell_type": "code",
   "execution_count": null,
   "metadata": {
    "collapsed": true,
    "hidden": true
   },
   "outputs": [],
   "source": [
    "%%bash\n",
    "assign_taxonomy.py \\\n",
    "  --input_fasta_fp 16S.fa \\\n",
    "  --output_dir 16S \\\n",
    "  --reference_seqs_fp ${reference_seqs_fp} \\\n",
    "  --id_to_taxonomy_fp ${id_to_taxonomy_fp} \\\n",
    "  --assignment_method sortmerna"
   ]
  },
  {
   "cell_type": "markdown",
   "metadata": {
    "hidden": true
   },
   "source": [
    "Check assignment ratio"
   ]
  },
  {
   "cell_type": "code",
   "execution_count": null,
   "metadata": {
    "collapsed": true,
    "hidden": true
   },
   "outputs": [],
   "source": [
    "%%bash\n",
    "# total sequences\n",
    "cat 16S/16S_tax_assignments.txt | tail -n+2 | wc -l\n",
    "# unassigned sequences\n",
    "cat 16S/16S_tax_assignments.txt | tail -n+2 | grep $'\\t'Unassigned$'\\t' | wc -l"
   ]
  },
  {
   "cell_type": "markdown",
   "metadata": {
    "hidden": true
   },
   "source": [
    "Unassignment ratios:\n",
    " - 16S: 7501 / 210370 = 3.56%\n",
    " - 18S: 6688 / 29778 = 22.46%\n",
    " - ITS: 5032 / 47062 = 10.69%"
   ]
  },
  {
   "cell_type": "markdown",
   "metadata": {
    "hidden": true
   },
   "source": [
    "Append taxonomy to BIOM tables"
   ]
  },
  {
   "cell_type": "code",
   "execution_count": null,
   "metadata": {
    "hidden": true
   },
   "outputs": [],
   "source": [
    "%%bash\n",
    "biom add-metadata \\\n",
    "  --input-fp 16S.biom \\\n",
    "  --output-fp 16S.wtax.biom \\\n",
    "  --observation-metadata-fp 16S/16S_tax_assignments.txt \\\n",
    "  --observation-header OTUID,taxonomy \\\n",
    "  --sc-separated taxonomy"
   ]
  },
  {
   "cell_type": "markdown",
   "metadata": {
    "hidden": true
   },
   "source": [
    "There were non-standard characters in the ITS assignment result (specifically, `s__Montagnula_aloës`), which caused error running biom add-metdata. We followed the protocol [here](https://groups.google.com/forum/#!topic/qiime-forum/W6NqdoWhNfI) to resolve the issue."
   ]
  },
  {
   "cell_type": "markdown",
   "metadata": {
    "heading_collapsed": true,
    "hidden": true
   },
   "source": [
    "### Post-process data"
   ]
  },
  {
   "cell_type": "markdown",
   "metadata": {
    "heading_collapsed": true,
    "hidden": true
   },
   "source": [
    "#### For 16S, perform bloom-filtering"
   ]
  },
  {
   "cell_type": "markdown",
   "metadata": {
    "hidden": true
   },
   "source": [
    "Using the script and references provided in [Amir et al. (2017)](http://msystems.asm.org/content/2/2/e00199-16)."
   ]
  },
  {
   "cell_type": "code",
   "execution_count": null,
   "metadata": {
    "hidden": true
   },
   "outputs": [],
   "source": [
    "%%bash\n",
    "python filterbiomseqs.py -i 16S.biom -o 16S.bf.biom -f newbloom.10.fna"
   ]
  },
  {
   "cell_type": "markdown",
   "metadata": {
    "hidden": true
   },
   "source": [
    "But there was no bloom sequences found. So this step was omitted."
   ]
  },
  {
   "cell_type": "markdown",
   "metadata": {
    "heading_collapsed": true,
    "hidden": true
   },
   "source": [
    "#### Filter out sequences with <10 counts study-wide."
   ]
  },
  {
   "cell_type": "code",
   "execution_count": null,
   "metadata": {
    "collapsed": true,
    "hidden": true
   },
   "outputs": [],
   "source": [
    "%%bash\n",
    "filter_otus_from_otu_table.py -i 16S.biom -o 16S.n10.biom -n 10\n",
    "filter_otus_from_otu_table.py -i 16S.wtax.biom -o 16S.wtax.n10.biom -n 10"
   ]
  },
  {
   "cell_type": "markdown",
   "metadata": {
    "heading_collapsed": true,
    "hidden": true
   },
   "source": [
    "#### For 18S, perform taxonomic filterings"
   ]
  },
  {
   "cell_type": "code",
   "execution_count": null,
   "metadata": {
    "hidden": true
   },
   "outputs": [],
   "source": [
    "%%bash\n",
    "# no fungi\n",
    "filter_taxa_from_otu_table.py -i 18S.biom -n \"D_3__Fungi\" -o 18S.noFungi.biom\n",
    "# animals only\n",
    "filter_taxa_from_otu_table.py -i 18S.biom -p \"D_3__Metazoa (Animalia)\" -o 18S.animals.biom\n",
    "# plants only (green algae and land plants)\n",
    "filter_taxa_from_otu_table.py -i 18S.biom -p \"D_2__Chloroplastida\" -o 18S.plants.biom\n",
    "# no animal, plants and fungi\n",
    "filter_taxa_from_otu_table.py -i 18S.biom -n \"D_3__Fungi,D_3__Metazoa (Animalia),D_2__Chloroplastida\" -o 18S.noAPF.biom"
   ]
  },
  {
   "cell_type": "markdown",
   "metadata": {
    "heading_collapsed": true,
    "hidden": true
   },
   "source": [
    "#### Rarefaction"
   ]
  },
  {
   "cell_type": "markdown",
   "metadata": {
    "hidden": true
   },
   "source": [
    "After examining the BIOM table summaries, we decided to use a sampling depth of 1000 for all three data types."
   ]
  },
  {
   "cell_type": "code",
   "execution_count": null,
   "metadata": {
    "collapsed": true,
    "hidden": true
   },
   "outputs": [],
   "source": [
    "%%bash\n",
    "filter_samples_from_otu_table.py -i 16S.biom -o 16S.mc1000.biom -n 1000\n",
    "single_rarefaction.py -i 16S.mc1000.biom -o 16S.even1000.biom -d 1000"
   ]
  },
  {
   "cell_type": "markdown",
   "metadata": {
    "hidden": true
   },
   "source": [
    "From this point on, all subsequent analyses were based on `16S.even1000.biom`, unless otherwise stated."
   ]
  },
  {
   "cell_type": "markdown",
   "metadata": {
    "hidden": true
   },
   "source": [
    "#### Filter human vs house samples"
   ]
  },
  {
   "cell_type": "markdown",
   "metadata": {
    "heading_collapsed": true,
    "hidden": true
   },
   "source": [
    "### Taxonomic profile"
   ]
  },
  {
   "cell_type": "code",
   "execution_count": null,
   "metadata": {
    "collapsed": true,
    "hidden": true
   },
   "outputs": [],
   "source": [
    "%%bash\n",
    "sort_otu_table.py -i 16S.biom -o 16S.sorted.biom\n",
    "summarize_taxa.py -i 16S.sorted.biom -o 16S"
   ]
  },
  {
   "cell_type": "code",
   "execution_count": null,
   "metadata": {
    "hidden": true
   },
   "outputs": [],
   "source": [
    "%%bash\n",
    "filter_samples_from_otu_table.py -i 16S.biom -m metadata.txt -s 'host_type:human' -o 16S.human.biom\n",
    "filter_samples_from_otu_table.py -i 16S.biom -m metadata.txt -s 'host_type:house' -o 16S.house.biom"
   ]
  },
  {
   "cell_type": "markdown",
   "metadata": {
    "heading_collapsed": true,
    "hidden": true
   },
   "source": [
    "### Alpha diversity"
   ]
  },
  {
   "cell_type": "code",
   "execution_count": null,
   "metadata": {
    "collapsed": true,
    "hidden": true
   },
   "outputs": [],
   "source": [
    "%%bash\n",
    "multiple_rarefactions.py -i 16S.mc1000.biom -m 10 -x 1000 -s 99 -o 16S.multi\n",
    "alpha_diversity.py -i 16S.multi -o 16S.alpha --metrics observed_otus,chao1,shannon\n",
    "collate_alpha.py -i 16S.alpha -o 16S\n",
    "rm -rf 16S.alpha 16S.multi"
   ]
  },
  {
   "cell_type": "markdown",
   "metadata": {
    "heading_collapsed": true,
    "hidden": true
   },
   "source": [
    "### Beta diversity"
   ]
  },
  {
   "cell_type": "code",
   "execution_count": null,
   "metadata": {
    "collapsed": true,
    "hidden": true
   },
   "outputs": [],
   "source": [
    "%%bash\n",
    "beta_diversity.py -i 16S.biom -o 16S --metrics bray_curtis\n",
    "principal_coordinates.py -i $x/bray_curtis_16S.txt -o $x/bray_curtis_16S.pcoa"
   ]
  },
  {
   "cell_type": "markdown",
   "metadata": {
    "heading_collapsed": true
   },
   "source": [
    "## MS data analysis"
   ]
  },
  {
   "cell_type": "markdown",
   "metadata": {
    "hidden": true
   },
   "source": [
    "To be added."
   ]
  },
  {
   "cell_type": "markdown",
   "metadata": {
    "heading_collapsed": true
   },
   "source": [
    "## Multi-omics analysis"
   ]
  },
  {
   "cell_type": "markdown",
   "metadata": {
    "hidden": true
   },
   "source": [
    "We applied the Partial Least Squares Singular Value Decomposition (**PLSSVD**) method ([Kapono et al., 2018](https://www.nature.com/articles/s41598-018-21541-4)) to explore the correlation between microbiome and metabolome data and with their metadata."
   ]
  },
  {
   "cell_type": "markdown",
   "metadata": {
    "hidden": true
   },
   "source": [
    "Source codes are under the \"plssvd\" directory. They were derived and modified from the [original source codes](https://github.com/knightlab-analyses/office-study/tree/master/ipynb) used in Kapono et al. (2018)."
   ]
  },
  {
   "cell_type": "code",
   "execution_count": null,
   "metadata": {
    "hidden": true
   },
   "outputs": [],
   "source": [
    "%%bash\n",
    "python plssvd.py \\\n",
    "  metadata/house.txt \\\n",
    "  microbes/ITS.biom.qza \\\n",
    "  metabolites/all.biom.qza \\\n",
    "  microbes/label/ITS.txt \\\n",
    "  metabolites/label/trim.txt \\\n",
    "  > ITS_all_house.log"
   ]
  },
  {
   "cell_type": "markdown",
   "metadata": {
    "heading_collapsed": true
   },
   "source": [
    "## Obsolete analyses"
   ]
  },
  {
   "cell_type": "markdown",
   "metadata": {
    "heading_collapsed": true,
    "hidden": true
   },
   "source": [
    "#### Relevant metadata fields\n",
    " - village (Checherta, Puerto Almendras, Iquitos, Manaus)\n",
    " - socioeconomic_level (low, middle) (Manaus only)\n",
    " - village_socio (Checherta, Puerto Almendras, Iquitos, Manaus low, Manaus middle)\n",
    "  - village_socio_number (1, 2, 3, 4, 5)\n",
    " - accult_score\n",
    " - age_category (baby: 0-0.5, infant: 0.5-3, child: 3-12, teen: 13-17, adult: 18+)\n",
    " - collection_year (2012, 2013) (Manaus only)\n",
    " - host_type (**human**, **house**, animal, water)\n",
    " - host_or_room\n",
    "  - animals: anaconda, capuchin, cat, chicken, dog, monkey, parrot, sloth, turtle\n",
    "  - rooms: bathroom, bedroom, kitchen, living\n",
    "  - human\n",
    "  - water\n",
    " - sample_site_general\n",
    "  - animal: anal, nose, oral, skin\n",
    "  - human: anal, areola, feces, nose, oral, skin\n",
    "  - bed, chair handle, countertop, crib, cup, faucet, fire beam, floor, hammock, matress, table, wall, water container\n",
    "  - water\n",
    "  - misc: Swab PERU, Swab USA\n",
    "  * In \"sample_site\", human skin is further divided into r arm, r foot and r hand.\n",
    " - metabolites: X230_248_320, X304_301_355, X332_335_381, X343_296_294, X369_384_393, X384_383_402, X599_437_371, X661_451_401, X705_477_401\n",
    " - sum of metabolite abundances: sum_369_384, sum_396_332, sum_599_437, sum_705_484"
   ]
  },
  {
   "cell_type": "markdown",
   "metadata": {
    "hidden": true
   },
   "source": [
    "Create single-column metadata tables:"
   ]
  },
  {
   "cell_type": "code",
   "execution_count": 2,
   "metadata": {
    "hidden": true,
    "scrolled": true
   },
   "outputs": [
    {
     "name": "stderr",
     "output_type": "stream",
     "text": [
      "cat: metadata.txt: No such file or directory\n"
     ]
    }
   ],
   "source": [
    "%%bash\n",
    "cat metadata.txt | cut -f1,5 | grep -v \"BLANK\" | grep -v \"NA\" > village.txt"
   ]
  },
  {
   "cell_type": "markdown",
   "metadata": {
    "hidden": true
   },
   "source": [
    "For certain method and test set, it was necessary to filter out unused samples from the input BIOM table:\n",
    " - e.g., comparing 2012 vs 2013 for Manaus samples."
   ]
  },
  {
   "cell_type": "code",
   "execution_count": null,
   "metadata": {
    "collapsed": true,
    "hidden": true
   },
   "outputs": [],
   "source": [
    "%%bash\n",
    "filter_samples_from_otu_table.py \\\n",
    "  --input_fp 16S.biom \\\n",
    "  --output_fp 16S.fil.biom \\\n",
    "  --sample_id_fp $category.txt"
   ]
  },
  {
   "cell_type": "markdown",
   "metadata": {
    "hidden": true
   },
   "source": [
    "#### observation-metadata correlation\n",
    " - Using Pearson or Spearman tests"
   ]
  },
  {
   "cell_type": "code",
   "execution_count": null,
   "metadata": {
    "collapsed": true,
    "hidden": true
   },
   "outputs": [],
   "source": [
    "%%bash\n",
    "# method = pearson or spearman\n",
    "observation_metadata_correlation.py \\\n",
    "  --otu_table_fp 16S.biom \\\n",
    "  --output_fp $category.txt \\\n",
    "  --mapping_fp design/$category.txt \\\n",
    "  --category $category \\\n",
    "  --test $method"
   ]
  },
  {
   "cell_type": "markdown",
   "metadata": {
    "hidden": true
   },
   "source": [
    "#### Two-level metadata columns for LEfSe\n",
    " - host_type,host_or_room\n",
    " - sample_site_general,sample_site"
   ]
  },
  {
   "cell_type": "markdown",
   "metadata": {
    "hidden": true
   },
   "source": [
    "#### Supervised classification\n",
    " - Using the **random forest** method\n",
    " - Categories: village_socio_number"
   ]
  },
  {
   "cell_type": "code",
   "execution_count": 3,
   "metadata": {
    "hidden": true,
    "scrolled": true
   },
   "outputs": [
    {
     "name": "stderr",
     "output_type": "stream",
     "text": [
      "bash: line 2: supervised_learning.py: command not found\n"
     ]
    }
   ],
   "source": [
    "%%bash\n",
    "supervised_learning.py \\\n",
    "  --input_data 16S.biom \\\n",
    "  --output_fp $category \\\n",
    "  --mapping_fp $category.txt \\\n",
    "  --category $category/16S"
   ]
  },
  {
   "cell_type": "markdown",
   "metadata": {
    "hidden": true
   },
   "source": [
    "#### Identify significantly differential taxa\n",
    " - Using DESeq2 1.14.1"
   ]
  },
  {
   "cell_type": "code",
   "execution_count": null,
   "metadata": {
    "collapsed": true,
    "hidden": true
   },
   "outputs": [],
   "source": [
    "%%bash differential_abundance.py \\\n",
    "  -a DESeq2_nbinom -d \\\n",
    "  -i 16S.biom \\\n",
    "  -o $category/16S.txt \\\n",
    "  -m $category.txt \\\n",
    "  -c $category \\\n",
    "  -x $subcat1 -y $subcat2"
   ]
  },
  {
   "cell_type": "markdown",
   "metadata": {
    "hidden": true
   },
   "source": [
    "#### Compare categories based on distance matrics\n",
    " - Using the [adonis](http://cc.oulu.fi/~jarioksa/softhelp/vegan/html/adonis.html) method as implemented in vegan 2.4-4."
   ]
  },
  {
   "cell_type": "code",
   "execution_count": null,
   "metadata": {
    "collapsed": true,
    "hidden": true
   },
   "outputs": [],
   "source": [
    "%%bash\n",
    "compare_categories.py \\\n",
    "  --method adonis \\\n",
    "  --input_dm bray_curtis_16S.txt \\\n",
    "  --output_dir $category/16S \\\n",
    "  --mapping_file $category.txt \\\n",
    "  --categories $category \\\n",
    "  --num_permutations 999"
   ]
  },
  {
   "cell_type": "markdown",
   "metadata": {
    "hidden": true
   },
   "source": [
    "SourceTracker"
   ]
  },
  {
   "cell_type": "markdown",
   "metadata": {
    "hidden": true
   },
   "source": [
    "PLSSVD"
   ]
  },
  {
   "cell_type": "markdown",
   "metadata": {
    "hidden": true
   },
   "source": [
    "LEfSe"
   ]
  },
  {
   "cell_type": "markdown",
   "metadata": {
    "hidden": true
   },
   "source": [
    "Procrust"
   ]
  },
  {
   "cell_type": "code",
   "execution_count": null,
   "metadata": {
    "collapsed": true,
    "hidden": true
   },
   "outputs": [],
   "source": []
  }
 ],
 "metadata": {
  "hide_input": false,
  "kernelspec": {
   "display_name": "Python 3",
   "language": "python",
   "name": "python3"
  },
  "language_info": {
   "codemirror_mode": {
    "name": "ipython",
    "version": 3
   },
   "file_extension": ".py",
   "mimetype": "text/x-python",
   "name": "python",
   "nbconvert_exporter": "python",
   "pygments_lexer": "ipython3",
   "version": "3.5.5"
  }
 },
 "nbformat": 4,
 "nbformat_minor": 2
}
